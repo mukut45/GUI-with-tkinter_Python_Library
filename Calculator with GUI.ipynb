{
 "cells": [
  {
   "cell_type": "code",
   "execution_count": 3,
   "id": "d0419895-bd18-495f-92f9-5ed65a611cd5",
   "metadata": {},
   "outputs": [],
   "source": [
    "import tkinter as tk\n",
    "\n",
    "def on_click(button_text):\n",
    "    \"\"\"Handles button clicks and updates the entry field.\"\"\"\n",
    "    current_text = entry_var.get()\n",
    "    if button_text == \"=\":\n",
    "        try:\n",
    "            result = eval(current_text)  # Evaluates the expression\n",
    "            entry_var.set(result)\n",
    "        except Exception:\n",
    "            entry_var.set(\"Error\")\n",
    "    elif button_text == \"C\":\n",
    "        entry_var.set(\"\")  # Clears the entry field\n",
    "    else:\n",
    "        entry_var.set(current_text + button_text)\n",
    "\n",
    "# Create main window\n",
    "root = tk.Tk()\n",
    "root.title(\"Simple Calculator\")\n",
    "root.geometry(\"300x400\")\n",
    "root.resizable(False, False)\n",
    "\n",
    "# Entry field for displaying calculations\n",
    "entry_var = tk.StringVar()\n",
    "entry = tk.Entry(root, textvariable=entry_var, font=(\"Arial\", 20), justify=\"right\", bd=10)\n",
    "entry.grid(row=0, column=0, columnspan=4, ipadx=8, ipady=8)\n",
    "\n",
    "# Button layout\n",
    "buttons = [\n",
    "    (\"7\", \"8\", \"9\", \"/\"),\n",
    "    (\"4\", \"5\", \"6\", \"*\"),\n",
    "    (\"1\", \"2\", \"3\", \"-\"),\n",
    "    (\"C\", \"0\", \"=\", \"+\")\n",
    "]\n",
    "\n",
    "# Create buttons dynamically\n",
    "for row_idx, row in enumerate(buttons, start=1):\n",
    "    for col_idx, text in enumerate(row):\n",
    "        button = tk.Button(root, text=text, font=(\"Arial\", 18), padx=20, pady=20, \n",
    "                           command=lambda t=text: on_click(t))\n",
    "        button.grid(row=row_idx, column=col_idx, sticky=\"nsew\")\n",
    "\n",
    "# Run the application\n",
    "root.mainloop()\n"
   ]
  },
  {
   "cell_type": "code",
   "execution_count": null,
   "id": "bbbfe8f9-7b8e-48fb-a97b-2bfa550c39e3",
   "metadata": {},
   "outputs": [],
   "source": []
  }
 ],
 "metadata": {
  "kernelspec": {
   "display_name": "Python 3 (ipykernel)",
   "language": "python",
   "name": "python3"
  },
  "language_info": {
   "codemirror_mode": {
    "name": "ipython",
    "version": 3
   },
   "file_extension": ".py",
   "mimetype": "text/x-python",
   "name": "python",
   "nbconvert_exporter": "python",
   "pygments_lexer": "ipython3",
   "version": "3.12.4"
  }
 },
 "nbformat": 4,
 "nbformat_minor": 5
}
